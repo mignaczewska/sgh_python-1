{
 "cells": [
  {
   "cell_type": "markdown",
   "metadata": {},
   "source": [
    "# Hacking Incident\n",
    "\n",
    "We're being hacked! We need your help to get a message to the main server.\n",
    "\n",
    "We need you to accomplish 3 tasks:\n",
    "\n",
    "1. Create a Caeser cipher encryption function.\n",
    "2. Create another function that decrypts a Caeser cipher message.\n",
    "\n",
    "We've set up a framework for you to follow here in this notebook. Feel free to use it, or create your own base functions."
   ]
  },
  {
   "cell_type": "markdown",
   "metadata": {},
   "source": [
    "## Encryption Function\n",
    "\n",
    "This function should take in two parameters, the plain text message and the shift number for the Caeser cipher.\n",
    "\n",
    "To create the cipher you will need to create a list of the alphabet. You can either write out the alphabet manually, or use the [string library](https://docs.python.org/3/library/string.html?highlight=string#module-string) to get all the lowercase alphabet. You will first need to run *import string* , and then call the attribute. For example:\n",
    "\n",
    "    import string\n",
    "    alphabet = string.ascii_lowercase\n",
    "    print(alphabet)\n",
    "    print(list(alphabet))\n",
    "    \n",
    "An empty function with some comments is here below for you to fill out:"
   ]
  },
  {
   "cell_type": "code",
   "execution_count": 3,
   "metadata": {
    "collapsed": true
   },
   "outputs": [],
   "source": [
    "from collections import deque\n",
    "import string\n",
    "\n",
    "def encrypt(text, shift):  \n",
    "  alphabet = string.ascii_lowercase\n",
    "  alphabet = deque(list(alphabet))\n",
    "  shifted = alphabet.copy()\n",
    "  shifted.rotate(shift)\n",
    "  alphabet = ''.join(alphabet)\n",
    "  shifted = ''.join(shifted)\n",
    "  text = list(text)\n",
    "  encrypted_text = []\n",
    "\n",
    "  for character in text:\n",
    "    if character.isalpha():\n",
    "      lookup_index = alphabet.find(character.lower())\n",
    "      new_character = shifted[lookup_index] \n",
    "      new_character = new_character.lower() \n",
    "      encrypted_text.append(new_character)\n",
    "    else :\n",
    "      encrypted_text.append(character)\n",
    "\n",
    "  encrypted_text = ''.join(encrypted_text)\n",
    "  return encrypted_text\n",
    "\n",
    "    "
   ]
  },
  {
   "cell_type": "markdown",
   "metadata": {},
   "source": [
    "** An example input and output: **"
   ]
  },
  {
   "cell_type": "code",
   "execution_count": 4,
   "metadata": {},
   "outputs": [
    {
     "data": {
      "text/plain": [
       "'trg guvf zrffntr gb gur znva freire'"
      ]
     },
     "execution_count": 4,
     "metadata": {},
     "output_type": "execute_result"
    }
   ],
   "source": [
    "encrypt('Get this message to the main server',13)"
   ]
  },
  {
   "cell_type": "markdown",
   "metadata": {},
   "source": [
    "## Decryption\n",
    "\n",
    "Now create a new function that will \"decrypt\" a shifted message. It should basically do the reverse of the encryption function. The process will be very similar as your previous function, but the alphabets will be switched."
   ]
  },
  {
   "cell_type": "code",
   "execution_count": 5,
   "metadata": {
    "collapsed": true
   },
   "outputs": [],
   "source": [
    "from collections import deque\n",
    "import string\n",
    "\n",
    "def decrypt(text, shift):\n",
    "  alphabet = string.ascii_lowercase\n",
    "  alphabet = deque(list(alphabet))\n",
    "  shifted = alphabet.copy()\n",
    "  shifted.rotate(-shift)\n",
    "  alphabet = ''.join(alphabet)\n",
    "  shifted = ''.join(shifted)\n",
    "  text = list(text)\n",
    "  decrypted_text = []\n",
    "\n",
    "  for character in text:\n",
    "    if character.isalpha():\n",
    "      lookup_index = shifted.find(character.lower())\n",
    "      new_character = alphabet[lookup_index] \n",
    "      new_character = new_character.lower() \n",
    "      decrypted_text.append(new_character)\n",
    "    else :\n",
    "      decrypted_text.append(character)\n",
    "\n",
    "  decrypted_text = ''.join(decrypted_text)\n",
    "  return decrypted_text\n"
   ]
  },
  {
   "cell_type": "markdown",
   "metadata": {},
   "source": [
    "** Here is an example output: **"
   ]
  },
  {
   "cell_type": "code",
   "execution_count": 6,
   "metadata": {},
   "outputs": [
    {
     "data": {
      "text/plain": [
       "'get this message to the main server'"
      ]
     },
     "execution_count": 6,
     "metadata": {},
     "output_type": "execute_result"
    }
   ],
   "source": [
    "decrypt('trg guvf zrffntr gb gur znva freire',13)"
   ]
  }
 ],
 "metadata": {
  "kernelspec": {
   "display_name": "Python 3",
   "language": "python",
   "name": "python3"
  },
  "language_info": {
   "codemirror_mode": {
    "name": "ipython",
    "version": 3
   },
   "file_extension": ".py",
   "mimetype": "text/x-python",
   "name": "python",
   "nbconvert_exporter": "python",
   "pygments_lexer": "ipython3",
   "version": "3.12.0"
  }
 },
 "nbformat": 4,
 "nbformat_minor": 2
}
